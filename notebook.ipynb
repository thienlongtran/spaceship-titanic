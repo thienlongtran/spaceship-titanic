{
 "cells": [
  {
   "cell_type": "markdown",
   "id": "ef7425e2-81b5-4537-900e-3a26937b54f5",
   "metadata": {},
   "source": [
    "# Spaceship Titanic"
   ]
  },
  {
   "cell_type": "markdown",
   "id": "1f7256bd-8539-4e52-b26b-f4cd471d6c01",
   "metadata": {},
   "source": [
    "## Setup"
   ]
  },
  {
   "cell_type": "code",
   "execution_count": 20,
   "id": "f2d0a94b-922f-49f6-84ad-188a4808d610",
   "metadata": {},
   "outputs": [],
   "source": [
    "import numpy as np\n",
    "import pandas as pd\n",
    "from tqdm import tqdm\n",
    "import xgboost as xgb\n",
    "from sklearn.model_selection import train_test_split\n",
    "from sklearn.metrics import accuracy_score"
   ]
  },
  {
   "cell_type": "code",
   "execution_count": 21,
   "id": "31ba0efd-1458-4178-b939-9586e491c995",
   "metadata": {},
   "outputs": [
    {
     "data": {
      "text/html": [
       "<div>\n",
       "<style scoped>\n",
       "    .dataframe tbody tr th:only-of-type {\n",
       "        vertical-align: middle;\n",
       "    }\n",
       "\n",
       "    .dataframe tbody tr th {\n",
       "        vertical-align: top;\n",
       "    }\n",
       "\n",
       "    .dataframe thead th {\n",
       "        text-align: right;\n",
       "    }\n",
       "</style>\n",
       "<table border=\"1\" class=\"dataframe\">\n",
       "  <thead>\n",
       "    <tr style=\"text-align: right;\">\n",
       "      <th></th>\n",
       "      <th>PassengerId</th>\n",
       "      <th>HomePlanet</th>\n",
       "      <th>CryoSleep</th>\n",
       "      <th>Cabin</th>\n",
       "      <th>Destination</th>\n",
       "      <th>Age</th>\n",
       "      <th>VIP</th>\n",
       "      <th>RoomService</th>\n",
       "      <th>FoodCourt</th>\n",
       "      <th>ShoppingMall</th>\n",
       "      <th>Spa</th>\n",
       "      <th>VRDeck</th>\n",
       "      <th>Name</th>\n",
       "      <th>Transported</th>\n",
       "    </tr>\n",
       "  </thead>\n",
       "  <tbody>\n",
       "    <tr>\n",
       "      <th>158</th>\n",
       "      <td>0179_03</td>\n",
       "      <td>Earth</td>\n",
       "      <td>False</td>\n",
       "      <td>G/26/P</td>\n",
       "      <td>TRAPPIST-1e</td>\n",
       "      <td>3.0</td>\n",
       "      <td>False</td>\n",
       "      <td>0.0</td>\n",
       "      <td>0.0</td>\n",
       "      <td>0.0</td>\n",
       "      <td>0.0</td>\n",
       "      <td>0.0</td>\n",
       "      <td>Sallyl Webstephrey</td>\n",
       "      <td>True</td>\n",
       "    </tr>\n",
       "    <tr>\n",
       "      <th>5472</th>\n",
       "      <td>5836_01</td>\n",
       "      <td>Europa</td>\n",
       "      <td>True</td>\n",
       "      <td>B/222/S</td>\n",
       "      <td>55 Cancri e</td>\n",
       "      <td>31.0</td>\n",
       "      <td>False</td>\n",
       "      <td>0.0</td>\n",
       "      <td>0.0</td>\n",
       "      <td>0.0</td>\n",
       "      <td>0.0</td>\n",
       "      <td>0.0</td>\n",
       "      <td>Phah Irintious</td>\n",
       "      <td>True</td>\n",
       "    </tr>\n",
       "    <tr>\n",
       "      <th>5203</th>\n",
       "      <td>5550_01</td>\n",
       "      <td>Earth</td>\n",
       "      <td>False</td>\n",
       "      <td>G/895/S</td>\n",
       "      <td>TRAPPIST-1e</td>\n",
       "      <td>33.0</td>\n",
       "      <td>False</td>\n",
       "      <td>127.0</td>\n",
       "      <td>745.0</td>\n",
       "      <td>9.0</td>\n",
       "      <td>0.0</td>\n",
       "      <td>0.0</td>\n",
       "      <td>Robyna Poperez</td>\n",
       "      <td>True</td>\n",
       "    </tr>\n",
       "    <tr>\n",
       "      <th>2546</th>\n",
       "      <td>2730_03</td>\n",
       "      <td>Earth</td>\n",
       "      <td>True</td>\n",
       "      <td>G/433/S</td>\n",
       "      <td>TRAPPIST-1e</td>\n",
       "      <td>16.0</td>\n",
       "      <td>False</td>\n",
       "      <td>0.0</td>\n",
       "      <td>NaN</td>\n",
       "      <td>0.0</td>\n",
       "      <td>0.0</td>\n",
       "      <td>0.0</td>\n",
       "      <td>Elancy Douglasen</td>\n",
       "      <td>True</td>\n",
       "    </tr>\n",
       "    <tr>\n",
       "      <th>1333</th>\n",
       "      <td>1412_01</td>\n",
       "      <td>Earth</td>\n",
       "      <td>False</td>\n",
       "      <td>G/217/S</td>\n",
       "      <td>55 Cancri e</td>\n",
       "      <td>15.0</td>\n",
       "      <td>False</td>\n",
       "      <td>0.0</td>\n",
       "      <td>0.0</td>\n",
       "      <td>NaN</td>\n",
       "      <td>0.0</td>\n",
       "      <td>832.0</td>\n",
       "      <td>Andona Winsley</td>\n",
       "      <td>False</td>\n",
       "    </tr>\n",
       "  </tbody>\n",
       "</table>\n",
       "</div>"
      ],
      "text/plain": [
       "     PassengerId HomePlanet CryoSleep    Cabin  Destination   Age    VIP  \\\n",
       "158      0179_03      Earth     False   G/26/P  TRAPPIST-1e   3.0  False   \n",
       "5472     5836_01     Europa      True  B/222/S  55 Cancri e  31.0  False   \n",
       "5203     5550_01      Earth     False  G/895/S  TRAPPIST-1e  33.0  False   \n",
       "2546     2730_03      Earth      True  G/433/S  TRAPPIST-1e  16.0  False   \n",
       "1333     1412_01      Earth     False  G/217/S  55 Cancri e  15.0  False   \n",
       "\n",
       "      RoomService  FoodCourt  ShoppingMall  Spa  VRDeck                Name  \\\n",
       "158           0.0        0.0           0.0  0.0     0.0  Sallyl Webstephrey   \n",
       "5472          0.0        0.0           0.0  0.0     0.0      Phah Irintious   \n",
       "5203        127.0      745.0           9.0  0.0     0.0      Robyna Poperez   \n",
       "2546          0.0        NaN           0.0  0.0     0.0    Elancy Douglasen   \n",
       "1333          0.0        0.0           NaN  0.0   832.0      Andona Winsley   \n",
       "\n",
       "      Transported  \n",
       "158          True  \n",
       "5472         True  \n",
       "5203         True  \n",
       "2546         True  \n",
       "1333        False  "
      ]
     },
     "execution_count": 21,
     "metadata": {},
     "output_type": "execute_result"
    }
   ],
   "source": [
    "df = pd.read_csv(\"data/train.csv\")\n",
    "df.sample(5)"
   ]
  },
  {
   "cell_type": "code",
   "execution_count": 22,
   "id": "2c6bfacc-36cc-4696-8829-6893ab4c8359",
   "metadata": {},
   "outputs": [
    {
     "name": "stdout",
     "output_type": "stream",
     "text": [
      "<class 'pandas.core.frame.DataFrame'>\n",
      "RangeIndex: 8693 entries, 0 to 8692\n",
      "Data columns (total 14 columns):\n",
      " #   Column        Non-Null Count  Dtype  \n",
      "---  ------        --------------  -----  \n",
      " 0   PassengerId   8693 non-null   object \n",
      " 1   HomePlanet    8492 non-null   object \n",
      " 2   CryoSleep     8476 non-null   object \n",
      " 3   Cabin         8494 non-null   object \n",
      " 4   Destination   8511 non-null   object \n",
      " 5   Age           8514 non-null   float64\n",
      " 6   VIP           8490 non-null   object \n",
      " 7   RoomService   8512 non-null   float64\n",
      " 8   FoodCourt     8510 non-null   float64\n",
      " 9   ShoppingMall  8485 non-null   float64\n",
      " 10  Spa           8510 non-null   float64\n",
      " 11  VRDeck        8505 non-null   float64\n",
      " 12  Name          8493 non-null   object \n",
      " 13  Transported   8693 non-null   bool   \n",
      "dtypes: bool(1), float64(6), object(7)\n",
      "memory usage: 891.5+ KB\n"
     ]
    }
   ],
   "source": [
    "df.info(verbose=True)"
   ]
  },
  {
   "cell_type": "markdown",
   "id": "87bbc391-e0c8-4118-a3cc-15f0f45d0b32",
   "metadata": {},
   "source": [
    "## Feature Engineering"
   ]
  },
  {
   "cell_type": "code",
   "execution_count": 23,
   "id": "73e39f17-5447-43c2-af70-3ce3506af976",
   "metadata": {},
   "outputs": [
    {
     "data": {
      "text/html": [
       "<div>\n",
       "<style scoped>\n",
       "    .dataframe tbody tr th:only-of-type {\n",
       "        vertical-align: middle;\n",
       "    }\n",
       "\n",
       "    .dataframe tbody tr th {\n",
       "        vertical-align: top;\n",
       "    }\n",
       "\n",
       "    .dataframe thead th {\n",
       "        text-align: right;\n",
       "    }\n",
       "</style>\n",
       "<table border=\"1\" class=\"dataframe\">\n",
       "  <thead>\n",
       "    <tr style=\"text-align: right;\">\n",
       "      <th></th>\n",
       "      <th>CryoSleep</th>\n",
       "      <th>Age</th>\n",
       "      <th>VIP</th>\n",
       "      <th>RoomService</th>\n",
       "      <th>FoodCourt</th>\n",
       "      <th>ShoppingMall</th>\n",
       "      <th>Spa</th>\n",
       "      <th>VRDeck</th>\n",
       "      <th>Transported</th>\n",
       "      <th>Deck</th>\n",
       "      <th>Side</th>\n",
       "    </tr>\n",
       "  </thead>\n",
       "  <tbody>\n",
       "    <tr>\n",
       "      <th>1548</th>\n",
       "      <td>False</td>\n",
       "      <td>21.0</td>\n",
       "      <td>False</td>\n",
       "      <td>305.0</td>\n",
       "      <td>0.0</td>\n",
       "      <td>1.0</td>\n",
       "      <td>618.0</td>\n",
       "      <td>2.0</td>\n",
       "      <td>True</td>\n",
       "      <td>G</td>\n",
       "      <td>P</td>\n",
       "    </tr>\n",
       "    <tr>\n",
       "      <th>2980</th>\n",
       "      <td>False</td>\n",
       "      <td>NaN</td>\n",
       "      <td>False</td>\n",
       "      <td>16.0</td>\n",
       "      <td>0.0</td>\n",
       "      <td>799.0</td>\n",
       "      <td>0.0</td>\n",
       "      <td>37.0</td>\n",
       "      <td>False</td>\n",
       "      <td>G</td>\n",
       "      <td>P</td>\n",
       "    </tr>\n",
       "    <tr>\n",
       "      <th>2316</th>\n",
       "      <td>False</td>\n",
       "      <td>14.0</td>\n",
       "      <td>False</td>\n",
       "      <td>148.0</td>\n",
       "      <td>0.0</td>\n",
       "      <td>34.0</td>\n",
       "      <td>808.0</td>\n",
       "      <td>0.0</td>\n",
       "      <td>False</td>\n",
       "      <td>E</td>\n",
       "      <td>S</td>\n",
       "    </tr>\n",
       "    <tr>\n",
       "      <th>3737</th>\n",
       "      <td>False</td>\n",
       "      <td>17.0</td>\n",
       "      <td>False</td>\n",
       "      <td>3.0</td>\n",
       "      <td>83.0</td>\n",
       "      <td>927.0</td>\n",
       "      <td>0.0</td>\n",
       "      <td>1.0</td>\n",
       "      <td>True</td>\n",
       "      <td>G</td>\n",
       "      <td>P</td>\n",
       "    </tr>\n",
       "    <tr>\n",
       "      <th>2199</th>\n",
       "      <td>False</td>\n",
       "      <td>13.0</td>\n",
       "      <td>False</td>\n",
       "      <td>880.0</td>\n",
       "      <td>0.0</td>\n",
       "      <td>0.0</td>\n",
       "      <td>0.0</td>\n",
       "      <td>0.0</td>\n",
       "      <td>False</td>\n",
       "      <td>F</td>\n",
       "      <td>S</td>\n",
       "    </tr>\n",
       "  </tbody>\n",
       "</table>\n",
       "</div>"
      ],
      "text/plain": [
       "      CryoSleep   Age    VIP  RoomService  FoodCourt  ShoppingMall    Spa  \\\n",
       "1548      False  21.0  False        305.0        0.0           1.0  618.0   \n",
       "2980      False   NaN  False         16.0        0.0         799.0    0.0   \n",
       "2316      False  14.0  False        148.0        0.0          34.0  808.0   \n",
       "3737      False  17.0  False          3.0       83.0         927.0    0.0   \n",
       "2199      False  13.0  False        880.0        0.0           0.0    0.0   \n",
       "\n",
       "      VRDeck  Transported Deck Side  \n",
       "1548     2.0         True    G    P  \n",
       "2980    37.0        False    G    P  \n",
       "2316     0.0        False    E    S  \n",
       "3737     1.0         True    G    P  \n",
       "2199     0.0        False    F    S  "
      ]
     },
     "execution_count": 23,
     "metadata": {},
     "output_type": "execute_result"
    }
   ],
   "source": [
    "def process_data(df):\n",
    "    featuresToDrop = [\"PassengerId\", \"Destination\", \"Name\", \"Cabin\", \"HomePlanet\", \"Num\"]\n",
    "    df[['Deck', 'Num', 'Side']] = df.Cabin.str.split('/', expand=True)  \n",
    "    df.drop(columns=featuresToDrop, inplace=True)\n",
    "    \n",
    "    df[\"CryoSleep\"] = df[\"CryoSleep\"].astype(bool)\n",
    "    df[\"VIP\"] = df[\"VIP\"].astype(bool)\n",
    "    df[\"Deck\"] = df[\"Deck\"].astype(\"category\")\n",
    "    df[\"Side\"] = df[\"Side\"].astype(\"category\")\n",
    "\n",
    "\n",
    "process_data(df)\n",
    "df.sample(5)"
   ]
  },
  {
   "cell_type": "markdown",
   "id": "acf96ffb-8a21-4bce-997a-81c0e125958f",
   "metadata": {},
   "source": [
    "## Train"
   ]
  },
  {
   "cell_type": "code",
   "execution_count": 24,
   "id": "6421f6d8-a4ed-47b0-af2a-2937a39f05e5",
   "metadata": {},
   "outputs": [],
   "source": [
    "y = df[\"Transported\"]\n",
    "df.drop(columns=[\"Transported\"], inplace=True)\n",
    "x = df"
   ]
  },
  {
   "cell_type": "code",
   "execution_count": 32,
   "id": "6836a2fd-8d70-4379-9f16-c4ab3c3ac0f1",
   "metadata": {},
   "outputs": [
    {
     "name": "stderr",
     "output_type": "stream",
     "text": [
      "100%|█████████████████████████████████████████████████████████████████████████████████████████████████████████████████████████████████| 100/100 [00:45<00:00,  2.22it/s]"
     ]
    },
    {
     "name": "stdout",
     "output_type": "stream",
     "text": [
      "Best model found with an accuracy of: 0.8131830208213505\n",
      "Model created and saved!!!\n"
     ]
    },
    {
     "name": "stderr",
     "output_type": "stream",
     "text": [
      "\n"
     ]
    }
   ],
   "source": [
    "best_model, best_acc = None, -1\n",
    "\n",
    "for i in tqdm(range(100)):\n",
    "    x_train, x_test, y_train, y_test = train_test_split(x, y, test_size=0.2)\n",
    "    x_train.head()\n",
    "    train = xgb.DMatrix(x_train, label=y_train, enable_categorical=True)\n",
    "    param = {\n",
    "        \"max_depth\": 4,\n",
    "        \"eta\": 0.05,\n",
    "        \"objective\": \"multi:softprob\",\n",
    "        \"num_class\": 3\n",
    "    }\n",
    "    epochs = 75\n",
    "\n",
    "    model = xgb.train(param, train, epochs)\n",
    "    predictions = np.argmax(model.predict(xgb.DMatrix(x, enable_categorical=True)), axis=1)\n",
    "    acc = accuracy_score(predictions, y)\n",
    "    if acc >= best_acc:\n",
    "        best_acc = acc\n",
    "        best_model = model\n",
    "        \n",
    "best_model.save_model(\"model.json\") \n",
    "print(\"Best model found with an accuracy of: \" + str(best_acc))\n",
    "print(\"Model created and saved!!!\")"
   ]
  },
  {
   "cell_type": "markdown",
   "id": "7897a7a6-f7bf-481a-acf2-84ae04802cf4",
   "metadata": {},
   "source": [
    "## Run Model w/ Test Set"
   ]
  },
  {
   "cell_type": "code",
   "execution_count": 33,
   "id": "d086992c-ac44-4bba-bb8c-aa2e03ca73aa",
   "metadata": {},
   "outputs": [
    {
     "name": "stdout",
     "output_type": "stream",
     "text": [
      "Ran model & saved results to results.csv!!!\n"
     ]
    }
   ],
   "source": [
    "test_set = pd.read_csv(\"data/test.csv\")\n",
    "predictions_series = test_set[\"PassengerId\"]\n",
    "process_data(test_set)\n",
    "\n",
    "model = xgb.Booster()\n",
    "model.load_model(\"model.json\")\n",
    "survived = model.predict(xgb.DMatrix(test_set, enable_categorical=True))\n",
    "prediction_list = np.argmax(survived, axis=1).astype(bool).tolist()\n",
    "predictions = pd.DataFrame(predictions_series)\n",
    "predictions[\"Transported\"] = prediction_list\n",
    "predictions.head()\n",
    "predictions.to_csv(\"results.csv\", index=False)\n",
    "print(\"Ran model & saved results to results.csv!!!\")"
   ]
  },
  {
   "cell_type": "code",
   "execution_count": null,
   "id": "842eaaab-1c2a-4bbc-ac31-6e4c200b046f",
   "metadata": {},
   "outputs": [],
   "source": []
  }
 ],
 "metadata": {
  "kernelspec": {
   "display_name": "Python 3 (ipykernel)",
   "language": "python",
   "name": "python3"
  },
  "language_info": {
   "codemirror_mode": {
    "name": "ipython",
    "version": 3
   },
   "file_extension": ".py",
   "mimetype": "text/x-python",
   "name": "python",
   "nbconvert_exporter": "python",
   "pygments_lexer": "ipython3",
   "version": "3.8.9"
  }
 },
 "nbformat": 4,
 "nbformat_minor": 5
}
